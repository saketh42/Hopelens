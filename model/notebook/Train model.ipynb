{
  "nbformat": 4,
  "nbformat_minor": 0,
  "metadata": {
    "colab": {
      "provenance": []
    },
    "kernelspec": {
      "name": "python3",
      "display_name": "Python 3"
    },
    "language_info": {
      "name": "python"
    }
  },
  "cells": [
    {
      "cell_type": "markdown",
      "source": [
        "# Suicide Risk Prediction Model"
      ],
      "metadata": {
        "id": "L2AUhDrAySrG"
      }
    },
    {
      "cell_type": "code",
      "execution_count": 92,
      "metadata": {
        "colab": {
          "base_uri": "https://localhost:8080/"
        },
        "id": "il85CUkdWzsw",
        "outputId": "6d7290c8-ba19-416a-fa44-3c76ffefdfcc"
      },
      "outputs": [
        {
          "output_type": "stream",
          "name": "stdout",
          "text": [
            "Drive already mounted at /content/drive; to attempt to forcibly remount, call drive.mount(\"/content/drive\", force_remount=True).\n"
          ]
        }
      ],
      "source": [
        "from google.colab import drive\n",
        "drive.mount('/content/drive')"
      ]
    },
    {
      "cell_type": "markdown",
      "source": [
        "## Import necessary libraries"
      ],
      "metadata": {
        "id": "JCsQ9uhCyZvs"
      }
    },
    {
      "cell_type": "code",
      "source": [
        "import pandas as pd\n",
        "import numpy as np\n",
        "import matplotlib.pyplot as plt\n",
        "import seaborn as sns\n",
        "\n",
        "from imblearn.over_sampling import SMOTE\n",
        "\n",
        "from sklearn.model_selection import train_test_split\n",
        "from sklearn.linear_model import LogisticRegression\n",
        "from sklearn.metrics import accuracy_score\n",
        "from sklearn.ensemble import RandomForestClassifier\n",
        "from xgboost import XGBClassifier\n",
        "\n",
        "import joblib"
      ],
      "metadata": {
        "id": "aQMlY5lBpMvz"
      },
      "execution_count": 93,
      "outputs": []
    },
    {
      "cell_type": "markdown",
      "source": [
        "## Pre-processing"
      ],
      "metadata": {
        "id": "OouKmwe2yj26"
      }
    },
    {
      "cell_type": "markdown",
      "source": [
        "Loading the data"
      ],
      "metadata": {
        "id": "o_dR8rdGyoNA"
      }
    },
    {
      "cell_type": "code",
      "source": [
        "df = pd.read_csv(\"foreveralone.csv\")"
      ],
      "metadata": {
        "id": "lfOpxiPGpgeN"
      },
      "execution_count": 94,
      "outputs": []
    },
    {
      "cell_type": "markdown",
      "source": [
        "Categorical to numerical value mapping"
      ],
      "metadata": {
        "id": "pREx_-9Iyqtt"
      }
    },
    {
      "cell_type": "code",
      "source": [
        "# Bodyweight mapping\n",
        "df['bodyweight'] = df['bodyweight'].map({'Normal weight': 0, 'Under weight': 1, 'Over weight': 2, 'Obese': 3})\n",
        "# Income mapping\n",
        "df['income'] = df['income'].map({'$30,000 to $39,999': 0, '$1 to $10,000': 1, '$0': 2, '$50,000 to $74,999': 3})\n",
        "# Gender mapping\n",
        "df['gender'] = df['gender'].map({'Male': 0, 'Female': 1, 'Transgender male': 2, 'Transgender female': 3})"
      ],
      "metadata": {
        "id": "CjoQbvp5plur"
      },
      "execution_count": 95,
      "outputs": []
    },
    {
      "cell_type": "code",
      "source": [
        "# Yes/ No mapping\n",
        "for col in ['attempt_suicide', 'depressed', 'social_fear']:\n",
        "  df[col] = df[col].map({\"Yes\": 1, \"No\": 0})"
      ],
      "metadata": {
        "id": "KzzrN8ohp_tq"
      },
      "execution_count": 96,
      "outputs": []
    },
    {
      "cell_type": "code",
      "source": [
        "# Drop missing values\n",
        "df.dropna(inplace=True)\n",
        "print(df.head())"
      ],
      "metadata": {
        "colab": {
          "base_uri": "https://localhost:8080/"
        },
        "id": "VnaAkRIUqT3j",
        "outputId": "ef48de35-9984-4ae3-b425-b95f60b2d73a"
      },
      "execution_count": 97,
      "outputs": [
        {
          "output_type": "stream",
          "name": "stdout",
          "text": [
            "                  time  gender sexuallity  age  income  \\\n",
            "5   5/17/2016 20:09:09       0   Straight   24     3.0   \n",
            "11  5/17/2016 20:18:37       0   Straight   25     1.0   \n",
            "12  5/17/2016 20:26:57       0   Straight   24     1.0   \n",
            "14  5/17/2016 20:30:26       0   Straight   22     0.0   \n",
            "16  5/17/2016 20:32:26       1   Straight   29     1.0   \n",
            "\n",
            "                      race  bodyweight virgin prostitution_legal  \\\n",
            "5       White non-Hispanic         0.0    Yes                 No   \n",
            "11                   Asian         0.0    Yes                 No   \n",
            "12      White non-Hispanic         0.0     No                 No   \n",
            "14  Hispanic (of any race)         0.0    Yes                 No   \n",
            "16         white and asian         0.0    Yes                 No   \n",
            "\n",
            "          pay_for_sex  friends  social_fear  depressed  \\\n",
            "5   Yes but I haven't      2.0            1          1   \n",
            "11                 No      0.0            1          1   \n",
            "12  Yes but I haven't     20.0            0          0   \n",
            "14  Yes but I haven't      0.0            0          1   \n",
            "16  Yes but I haven't      5.0            1          1   \n",
            "\n",
            "                                what_help_from_others  attempt_suicide  \\\n",
            "5                                       date coaching                1   \n",
            "11           wingman/wingwoman, Set me up with a date                1   \n",
            "12           wingman/wingwoman, Set me up with a date                0   \n",
            "14  wingman/wingwoman, Set me up with a date, date...                0   \n",
            "16  wingman/wingwoman, someone to hang out with me...                0   \n",
            "\n",
            "                          employment          job_title  \\\n",
            "5                 Employed for wages    game programmer   \n",
            "11                Employed for wages  Freight associate   \n",
            "12                         A student            Student   \n",
            "14                Employed for wages             broker   \n",
            "16  Out of work and looking for work             Intern   \n",
            "\n",
            "                  edu_level                               improve_yourself_how  \n",
            "5         Bachelor’s degree  Joined a gym/go to the gym, join clubs/socual ...  \n",
            "11  Some college, no degree         Joined a gym/go to the gym, Other exercise  \n",
            "12  Some college, no degree  Joined a gym/go to the gym, Therapy, join club...  \n",
            "14        Bachelor’s degree  Cosmetic survey, Joined a gym/go to the gym, T...  \n",
            "16        Bachelor’s degree  Cosmetic survey, Therapy, Other exercise, forc...  \n"
          ]
        }
      ]
    },
    {
      "cell_type": "markdown",
      "source": [
        "## Train-Test split"
      ],
      "metadata": {
        "id": "TdhJKX5R0ZwZ"
      }
    },
    {
      "cell_type": "markdown",
      "source": [
        "Spliting table into Input and output"
      ],
      "metadata": {
        "id": "td5HgDSF0e-w"
      }
    },
    {
      "cell_type": "code",
      "source": [
        "# Selected features for prediction\n",
        "features = ['age', 'friends', 'depressed', 'social_fear', 'gender', 'income', 'bodyweight']\n",
        "\n",
        "# Features\n",
        "X = df[features]\n",
        "# Outputs\n",
        "y = df['attempt_suicide']"
      ],
      "metadata": {
        "id": "wAllHciLqc3j"
      },
      "execution_count": 98,
      "outputs": []
    },
    {
      "cell_type": "markdown",
      "source": [
        "Handling Class Imbalance"
      ],
      "metadata": {
        "id": "r07B_Zfd0nUQ"
      }
    },
    {
      "cell_type": "code",
      "source": [
        "from imblearn.over_sampling import SMOTE\n",
        "\n",
        "smote = SMOTE(random_state=42)\n",
        "X, y = smote.fit_resample(X, y)"
      ],
      "metadata": {
        "id": "Bq5z8TgFw8E2"
      },
      "execution_count": 99,
      "outputs": []
    },
    {
      "cell_type": "markdown",
      "source": [
        "Train-test split"
      ],
      "metadata": {
        "id": "LsAMKfBY0yzq"
      }
    },
    {
      "cell_type": "code",
      "source": [
        "X_train, X_test, y_train, y_test = train_test_split(X, y, test_size=0.2, random_state=42)"
      ],
      "metadata": {
        "id": "dfu0uckzrNUL"
      },
      "execution_count": 100,
      "outputs": []
    },
    {
      "cell_type": "markdown",
      "source": [
        "## Model Training"
      ],
      "metadata": {
        "id": "bPXlIg4q04P2"
      }
    },
    {
      "cell_type": "markdown",
      "source": [
        "XGBoost"
      ],
      "metadata": {
        "id": "oOhtb6TY1RPC"
      }
    },
    {
      "cell_type": "code",
      "source": [
        "# Train XGBoost\n",
        "xgb_model = XGBClassifier(n_estimators=200, learning_rate=0.05, max_depth=5, random_state=42)\n",
        "xgb_model.fit(X_train, y_train)\n",
        "\n",
        "# Predictions\n",
        "y_pred_xgb = xgb_model.predict(X_test)\n",
        "\n",
        "# Evaluate\n",
        "accuracy_xgb = accuracy_score(y_test, y_pred_xgb)\n",
        "print(f\"XGBoost Accuracy: {accuracy_xgb:.2f}\")\n"
      ],
      "metadata": {
        "colab": {
          "base_uri": "https://localhost:8080/"
        },
        "id": "fqtUZFiV1RrF",
        "outputId": "f3ba2589-a666-4d88-b3ea-efde5db0b6b6"
      },
      "execution_count": 101,
      "outputs": [
        {
          "output_type": "stream",
          "name": "stdout",
          "text": [
            "XGBoost Accuracy: 0.92\n"
          ]
        }
      ]
    },
    {
      "cell_type": "markdown",
      "source": [
        "Logistic Regression"
      ],
      "metadata": {
        "id": "iCji1s3j06WR"
      }
    },
    {
      "cell_type": "code",
      "source": [
        "# Train Logistic Regression\n",
        "lr_model = LogisticRegression()\n",
        "lr_model.fit(X_train, y_train)\n",
        "\n",
        "# Prediction\n",
        "y_pred = lr_model.predict(X_test)\n",
        "\n",
        "# Evaluate\n",
        "lr_accuracy = accuracy_score(y_test, y_pred)\n",
        "print(\"Accuracy:\", lr_accuracy)"
      ],
      "metadata": {
        "colab": {
          "base_uri": "https://localhost:8080/"
        },
        "id": "VyS-IRwQrleg",
        "outputId": "2646f59c-991c-4d28-8209-1fb6f3b07c1e"
      },
      "execution_count": 102,
      "outputs": [
        {
          "output_type": "stream",
          "name": "stdout",
          "text": [
            "Accuracy: 0.625\n"
          ]
        }
      ]
    },
    {
      "cell_type": "markdown",
      "source": [
        "Random Forest"
      ],
      "metadata": {
        "id": "IZ0BiJ7v09q5"
      }
    },
    {
      "cell_type": "code",
      "source": [
        "# Train Random Forest Classifier\n",
        "rf_model = RandomForestClassifier()\n",
        "rf_model.fit(X_train, y_train)\n",
        "\n",
        "# Prediction\n",
        "y_pred = rf_model.predict(X_test)\n",
        "\n",
        "# Evaluate\n",
        "rf_accuracy = accuracy_score(y_test, y_pred)\n",
        "print(\"Accuracy:\", rf_accuracy)"
      ],
      "metadata": {
        "colab": {
          "base_uri": "https://localhost:8080/"
        },
        "id": "8pvbTiGqsD_3",
        "outputId": "d616962e-a67a-4fb1-bc82-54b829f95169"
      },
      "execution_count": 104,
      "outputs": [
        {
          "output_type": "stream",
          "name": "stdout",
          "text": [
            "Accuracy: 0.8333333333333334\n"
          ]
        }
      ]
    },
    {
      "cell_type": "markdown",
      "source": [
        "## Saving the model"
      ],
      "metadata": {
        "id": "_tomQhYH4Gv2"
      }
    },
    {
      "cell_type": "code",
      "source": [
        "# Save the model\n",
        "joblib.dump(xgb_model, \"suicide_predictor.pkl\")\n",
        "loaded_model = joblib.load(\"suicide_predictor.pkl\")"
      ],
      "metadata": {
        "id": "aQcZ2J0ksLKY"
      },
      "execution_count": 106,
      "outputs": []
    },
    {
      "cell_type": "markdown",
      "source": [
        "Testing the model"
      ],
      "metadata": {
        "id": "yPYUZSdi4LAg"
      }
    },
    {
      "cell_type": "code",
      "source": [
        "new_data = np.array([[22, 1, 1, 1, 0, 1, 2]])  # Example input (age, friends, etc.)\n",
        "prediction = loaded_model.predict(new_data)\n",
        "\n",
        "if prediction[0] == 1:\n",
        "    print(\"High risk of suicide attempt. Immediate attention needed.\")\n",
        "else:\n",
        "    print(\"Low risk of suicide attempt.\")\n"
      ],
      "metadata": {
        "colab": {
          "base_uri": "https://localhost:8080/"
        },
        "id": "F_BJwcr63tRF",
        "outputId": "8dce2337-1d92-4f2f-b145-3816d01e21a8"
      },
      "execution_count": 107,
      "outputs": [
        {
          "output_type": "stream",
          "name": "stdout",
          "text": [
            "High risk of suicide attempt. Immediate attention needed.\n"
          ]
        }
      ]
    }
  ]
}